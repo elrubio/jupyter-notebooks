{
 "cells": [
  {
   "cell_type": "markdown",
   "id": "01a573ec-1e8a-4ce8-ada0-86f2ae6ed560",
   "metadata": {
    "tags": []
   },
   "source": [
    "# Sigmoidal Fitting"
   ]
  },
  {
   "cell_type": "code",
   "execution_count": null,
   "id": "1a4e505a-1713-4508-915b-70ebd86345ba",
   "metadata": {},
   "outputs": [],
   "source": [
    "%%capture\n",
    "%pip install matplotlib numpy scipy lmfit"
   ]
  },
  {
   "cell_type": "markdown",
   "id": "5a9926b6-0fcc-46a2-bfd6-e5e9dd5b7f71",
   "metadata": {
    "tags": []
   },
   "source": [
    "## Input\n",
    "\n",
    "Each line must contain either 2 or 3 fields separated by whitespace. \n",
    "An easy way is to simply copy/paste values from Excel.\n",
    "\n",
    "Example:\n",
    "\n",
    "    input_data = \"\"\"\n",
    "    <x-value>   <y-value>   [<weight>]\n",
    "    <x-value>   <y-value>   [<weight>]\n",
    "    <x-value>   <y-value>   [<weight>]\n",
    "    [...]\n",
    "    \"\"\"\n",
    "\n",
    "Note:\n",
    "  - All lines must contain the same number of fields.\n",
    "  - The first and last line must not be deleted."
   ]
  },
  {
   "cell_type": "code",
   "execution_count": null,
   "id": "b40f27b1-e9b6-4d28-bf34-e57535b10f2b",
   "metadata": {},
   "outputs": [],
   "source": [
    "input_data = \"\"\"\n",
    "1\t30.633\t1\n",
    "9\t34.774\t1\n",
    "20\t49.24\t1\n",
    "39\t104\t1\n",
    "59\t153.048\t1\n",
    "71\t169.499\t1\n",
    "90\t250.428\t1\n",
    "114.5\t378.78\t1\n",
    "153\t525.84\t1\n",
    "156\t439.92\t0.1\n",
    "179\t636.312\t1\n",
    "181\t553.512\t0.1\n",
    "184\t550\t0.1\n",
    "189.5\t810\t1\n",
    "224\t1080\t1\n",
    "\"\"\""
   ]
  },
  {
   "cell_type": "markdown",
   "id": "75052cdc-2bd0-4a2e-8a20-e680e6a89daf",
   "metadata": {},
   "source": [
    "## Settings"
   ]
  },
  {
   "cell_type": "code",
   "execution_count": null,
   "id": "8be98928-70dc-4a33-bc84-840e0a75bc33",
   "metadata": {},
   "outputs": [],
   "source": [
    "# fit in log10 space\n",
    "logspace = True\n",
    "\n",
    "# range of xaxis and fit prediction\n",
    "xrange = [0, 280]\n",
    "\n",
    "# figure width, height in inches\n",
    "fig_size = 10, 6\n",
    "\n",
    "# figure DPI\n",
    "fig_dpi = 100\n",
    "\n",
    "# Custom plot labels\n",
    "fig_title = 'Sigmoidal fit'\n",
    "fig_xaxis_label = 'x'\n",
    "fig_yaxis_label = 'y'"
   ]
  },
  {
   "cell_type": "markdown",
   "id": "6b1e0ae1-e2c7-409a-863d-29007ff6044e",
   "metadata": {
    "tags": []
   },
   "source": [
    "## Calculation"
   ]
  },
  {
   "cell_type": "code",
   "execution_count": null,
   "id": "02f7f7cf-978f-46b5-a455-c67200c7b091",
   "metadata": {},
   "outputs": [],
   "source": [
    "import math\n",
    "import re\n",
    "import sys\n",
    "\n",
    "import numpy as np\n",
    "import matplotlib.pyplot as plt\n",
    "\n",
    "from io import StringIO\n",
    "from lmfit import Model\n",
    "from lmfit.models import PolynomialModel\n",
    "\n",
    "plt.rcParams['figure.figsize'] = fig_size\n",
    "plt.rcParams['figure.dpi'] = fig_dpi"
   ]
  },
  {
   "cell_type": "code",
   "execution_count": null,
   "id": "af218c8f-cc86-472e-ac5b-52ae1d4921ce",
   "metadata": {},
   "outputs": [],
   "source": [
    "c = StringIO(input_data.strip())\n",
    "data = np.loadtxt(c)\n",
    "xx = data[:, 0]\n",
    "yy = data[:, 1]\n",
    "\n",
    "if logspace:\n",
    "    yy = np.log10(yy)\n",
    "\n",
    "try:\n",
    "    weights = data[:, 2]\n",
    "except IndexError:\n",
    "    weights = None\n",
    "\n",
    "if xrange is None:\n",
    "    xrange = [np.min(xx), np.max(xx)]"
   ]
  },
  {
   "cell_type": "code",
   "execution_count": null,
   "id": "0879315e-d5f1-41e0-9b87-f6de7e5f66e6",
   "metadata": {},
   "outputs": [],
   "source": [
    "def sigmoid(x, s0, s1, s2, s3):\n",
    "    return s0 + s1 / (1 + np.exp(-(x - s2) / s3))\n",
    "\n",
    "model = Model(sigmoid)\n",
    "params = model.make_params(\n",
    "    s0=max(yy), s1=np.median(xx), s2=1, s3=min(yy),\n",
    ")\n",
    "\n",
    "result = model.fit(yy, params, x=xx, weights=weights)\n",
    "\n",
    "xx_fit = np.linspace(xrange[0], xrange[-1], 100)\n",
    "yy_fit = model.eval(result.params, x=xx_fit)\n",
    "\n",
    "if logspace:\n",
    "    yy = 10 ** yy\n",
    "    yy_fit = 10 ** yy_fit"
   ]
  },
  {
   "cell_type": "markdown",
   "id": "fcc39eab-3eb5-48fa-bbdc-562733fd7f79",
   "metadata": {},
   "source": [
    "## Fit result\n",
    "\n",
    "### Plot"
   ]
  },
  {
   "cell_type": "code",
   "execution_count": null,
   "id": "335d9ced-504e-4ae6-89ef-b30fced763e7",
   "metadata": {},
   "outputs": [],
   "source": [
    "plt.plot(xx, yy, marker='o', label='Input data')\n",
    "plt.plot(xx_fit, yy_fit, label='Fit')\n",
    "plt.xlim(*xrange)\n",
    "#plt.semilogy()\n",
    "plt.grid()\n",
    "plt.legend()\n",
    "plt.suptitle(fig_title)\n",
    "plt.xlabel(fig_xaxis_label)\n",
    "plt.ylabel(fig_yaxis_label)\n",
    "# plt.tight_layout()\n",
    "plt.show()"
   ]
  },
  {
   "cell_type": "markdown",
   "id": "4f8b7cac-b82a-42c1-9dec-4157f1493227",
   "metadata": {},
   "source": [
    "### Report"
   ]
  },
  {
   "cell_type": "code",
   "execution_count": null,
   "id": "d72dfa95-90d7-4ccc-8523-39a45721e0da",
   "metadata": {},
   "outputs": [],
   "source": [
    "print(result.fit_report())"
   ]
  },
  {
   "cell_type": "markdown",
   "id": "2b46a7a4-5e62-445b-afcb-068c9eee4a75",
   "metadata": {},
   "source": [
    "### Y-values"
   ]
  },
  {
   "cell_type": "code",
   "execution_count": null,
   "id": "02bbd03f-4f2c-4c92-87ad-3754d1083029",
   "metadata": {},
   "outputs": [],
   "source": [
    "yy_best = result.best_fit\n",
    "if logspace:\n",
    "    yy_best = 10 ** yy_best\n",
    "# result_data = np.column_stack((xx, yy_best))\n",
    "# np.savetxt(sys.stdout, result_data, fmt=['%g\\t', '%.5f'], delimiter='')\n",
    "result_data = yy_best\n",
    "np.savetxt(sys.stdout, result_data, fmt='%.5f')\n"
   ]
  }
 ],
 "metadata": {
  "kernelspec": {
   "display_name": "Python 3 (ipykernel)",
   "language": "python",
   "name": "python3"
  },
  "language_info": {
   "codemirror_mode": {
    "name": "ipython",
    "version": 3
   },
   "file_extension": ".py",
   "mimetype": "text/x-python",
   "name": "python",
   "nbconvert_exporter": "python",
   "pygments_lexer": "ipython3",
   "version": "3.10.2"
  },
  "toc-autonumbering": false,
  "toc-showcode": true,
  "toc-showmarkdowntxt": false,
  "toc-showtags": false
 },
 "nbformat": 4,
 "nbformat_minor": 5
}
